{
  "nbformat": 4,
  "nbformat_minor": 0,
  "metadata": {
    "colab": {
      "provenance": []
    },
    "kernelspec": {
      "name": "python3",
      "display_name": "Python 3"
    },
    "language_info": {
      "name": "python"
    }
  },
  "cells": [
    {
      "cell_type": "code",
      "execution_count": 52,
      "metadata": {
        "id": "vQkgWb6s4pTe"
      },
      "outputs": [],
      "source": [
        "import numpy as np\n",
        "import scipy.stats as st\n",
        "from math import factorial\n",
        "\n",
        "import matplotlib.pyplot as plt\n",
        "import pandas as pd\n"
      ]
    },
    {
      "cell_type": "markdown",
      "source": [
        "# Probabilidad y estadística\n",
        "## Principio basico del conteo\n",
        "\n",
        "Supongamos que se van a realizar dos experimentos.\n",
        "Si el experimento 1 puede dar uno de $m$ resultados posibles y si, para cada resultado del experimento 1, hay hay $n$ resultados posibles del experimento 2, entonces juntos hay $mn$ resultados posibles de los dos experimentos.\n",
        "resultados de los dos experimentos\n"
      ],
      "metadata": {
        "id": "RgQa3urN5ohU"
      }
    },
    {
      "cell_type": "markdown",
      "source": [
        "**Ejemplo 01**\n",
        "\n",
        "Una pequeña comunidad está formada por 10 mujeres, de las cuales cada una tiene 3 hijos.\n",
        "Si una mujer y uno de sus hijos deben ser elegidos como madre e hijo del año,\n",
        "\n",
        "\n",
        "*   ¿Cuántas elecciones son posibles?\n",
        "\n",
        "Si consideramos la elección de la mujer como el resultado del primer experimento y la posterior elección de uno de sus hijos como el resultado del segundo experimento, vemos a partir del principio básico que hay 10 * 3 = 30 elecciones posibles.\n",
        "\n",
        "\n",
        "**Ejemplo 02**\n",
        "\n",
        "* ¿Cuántos folios diferentes son posibles de formar si los 3 primeros caracteres son letras y los 4 últimos son números?\n",
        "\n",
        "\n",
        "Utilizando el alfabeto sin la letra ñ. Tenemos que:\n",
        "26 · 26 · 26 · 10 · 10 · 10 · 10 = 175,760,000"
      ],
      "metadata": {
        "id": "XjfeQrve6kbt"
      }
    },
    {
      "cell_type": "markdown",
      "source": [
        "**Ejemplo 03**\n",
        "\n",
        "\n",
        "Con los dígitos 1, 2, y 3 forma todos los números de tres cifras que puedas sin que se repita ninguna.\n",
        "*   ¿Cuántos son?\n",
        "3! = 3 · 2 · 1 = 6\n",
        "\n"
      ],
      "metadata": {
        "id": "tanm7FnmK-GI"
      }
    },
    {
      "cell_type": "code",
      "source": [
        "#Digitos\n",
        "n = 3\n",
        "\n",
        "# = 4 · 3 · 2 = 24\n",
        "permutations = factorial(n)\n",
        "print(\"Podemos formar\", permutations, \"números de tres cifras diferentes con los dígitos 1, 2 y 3.\")\n",
        "\n",
        "print([(i,j,k) for i in range(1,4) for j in range(1,4) for k in range(1,4) if i!=j and j!=k and i!=k])"
      ],
      "metadata": {
        "colab": {
          "base_uri": "https://localhost:8080/"
        },
        "id": "NxtDwYs3J-EN",
        "outputId": "1da4e554-9adc-4471-86b4-b9ee3e9b5381"
      },
      "execution_count": 30,
      "outputs": [
        {
          "output_type": "stream",
          "name": "stdout",
          "text": [
            "Podemos formar 6 números de tres cifras diferentes con los dígitos 1, 2 y 3.\n",
            "[(1, 2, 3), (1, 3, 2), (2, 1, 3), (2, 3, 1), (3, 1, 2), (3, 2, 1)]\n"
          ]
        }
      ]
    },
    {
      "cell_type": "markdown",
      "source": [
        "## Ejercicio Moral\n",
        "\n",
        "Durante años, los prefijos telefónicos de Estados Unidos y Canadá consistían en una secuencia de tres dígitos.\n",
        "El primer dígito era un número entero comprendido entre 2 y 9, el segundo era 0 ó 1 y el tercero era cualquier número entero comprendido entre 1 y 9.\n",
        "\n",
        "\n",
        "*   ¿Cuántos prefijos eran posibles?\n",
        "\n",
        "*   ¿Cuántos prefijos que empiezan por 4 son posibles?\n",
        "\n",
        "\n"
      ],
      "metadata": {
        "id": "Pfb4OxFqXpDL"
      }
    },
    {
      "cell_type": "code",
      "source": [],
      "metadata": {
        "id": "1oMlvQclUaoa"
      },
      "execution_count": null,
      "outputs": []
    },
    {
      "cell_type": "markdown",
      "source": [
        "# Cuantificando la incertidumbre\n",
        "La teoría de probabilidad, nos proporciona las herramientas para poder cuantificar la incertidumbre, pero ¿Cómo podemos realmente cuantificar estos eventos aleatorios y hacer inferencias sobre ellos?\n",
        "\n",
        "## El Espacio de muestreo\n",
        "El espacio de muestreo hace referencia a la idea de que los posibles resultados de un proceso aleatorio pueden ser pensados como puntos en el espacio.\n",
        "\n",
        "### Independencia\n",
        "En teoría de probabilidad, podemos decir que dos eventos son independientes cuando la probabilidad de cada uno de ellos no se ve afecta porque el otro evento ocurra, es decir que no existe ninguna relación entre los eventos."
      ],
      "metadata": {
        "id": "ILgpLR5lsSw1"
      }
    },
    {
      "cell_type": "markdown",
      "source": [
        "# Experimentos aleatorios\n",
        "\n",
        "Cuando lazamos un dado no sabemos qué número va a salir; sin embargo, si lanzamos una piedra al aire estamos seguros de que caerá al suelo.\n",
        "\n",
        "Es decir, en algunos experimentos podemos saber lo que va a ocurrir y en otros no.\n",
        "\n",
        "\n",
        "\n",
        "*   A los experimentos en los cuales no sabemos lo que va a ocurrir se les llama experimentos aleatorios.\n",
        "*   En los que sí podemos decir lo que va a ocurrir, se les llama experimentos deterministas.\n",
        "\n",
        "\n",
        "Un experimento es aleatorio si hay más de un resultado posible y no podemos decir con anterioridad lo que va a suceder. En este caso se dice que el resultado depende del azar.\n",
        "\n",
        "Todos los juegos de azar son experimentos aleatorios. Como ejemplos\n",
        "podemos poner:\n",
        "\n",
        "\n",
        "\n",
        "*   Lanzar una moneda al aire podrá salir cara o cruz.\n",
        "*   Sacar una bola de una bolsa sin visibilidad, que contiene bolas de distinto color.\n",
        "*   Obtener una carta de una baraja.\n",
        "\n",
        "\n",
        "\n",
        "Supongamos que tenemos una moneda justa, que tiene las mismas probabilidades de salir cara (H) o cruz (T).\n",
        "\n",
        "\n",
        "En casos como éste, en el que los dos resultados son igual de probables, podemos utilizar la teoría de la probabilidad para expresar la probabilidad de un suceso concreto comparándolo con el espacio muestral (el conjunto de todos los resultados posibles; puede denotarse como  $\\Omega$), tal que\n",
        " $$ P(\\text{evento}) = \\frac{\\text{numero de resultados del evento}}{\\text{numero de resultados en }\\Omega} $$\n",
        "\n",
        "\n",
        "\n",
        "\n",
        "\n"
      ],
      "metadata": {
        "id": "gXiRErh8aVFG"
      }
    },
    {
      "cell_type": "markdown",
      "source": [
        "Si sólo lanzamos la moneda una vez, entonces sólo hay dos resultados posibles en el espacio muestral $\\Omega$: Cara o Cruz (utilizando la notación de conjuntos, podríamos escribir esto como $\\Omega$ = {Cara, Cruz}).\n",
        "\n",
        "\n",
        "$$ P(Cara) = \\frac{1}{2} = 0.5 $$\n",
        "\n",
        "$$ P(Cruz) = \\frac{1}{2} = 0.5 $$"
      ],
      "metadata": {
        "id": "kDYB5JhYfohm"
      }
    },
    {
      "cell_type": "markdown",
      "source": [
        "**Ejemplo 01**\n",
        "\n",
        "Para las posibles combinaciones al lanzar dos monedas al aire son: (cara, cara), (cara, cruz), (cruz, cara) y (cruz, cruz). Las probabilidades de cada una de estas combinaciones son las mismas, ya que se trata de un proceso aleatorio en el que cada resultado tiene la misma probabilidad de ocurrir.\n",
        "\n",
        "La probabilidad de lanzar dos caras consecutivas es: $$ P(\\text{Cara,Cara}) = \\frac{1}{4} = 0,25 $$\n",
        "\n",
        "La probabilidad de sacar *tres* caras consecutivas es: $$ P(\\text{Cara,Cara,Cara}) = \\frac{1}{8} = 0,125 $$\n",
        "\n",
        "\n",
        "Para combinar probabilidades, podemos multiplicarlas.\n",
        "\n",
        "Así, la probabilidad de sacar cinco caras consecutivas, por ejemplo, es el producto de las probabilidades que ya hemos calculado:\n",
        "$$P(\\text{Cara,Cara,Cara,Cara,Cara}) =  P(\\text{Cara,Cara}) \\times P(\\text{Cara,Cara,Cara})$$\n",
        "$$\\frac{1}{4} \\times \\frac{1}{8} = \\frac{1}{32}  \\approx 0.031  $$"
      ],
      "metadata": {
        "id": "0PThMl9xgjHm"
      }
    },
    {
      "cell_type": "code",
      "source": [
        "\n",
        "import random\n",
        "\n",
        "def lanzar_moneda():\n",
        "    return random.choice(['cara', 'cruz'])\n",
        "\n",
        "def experimento_dos_monedas():\n",
        "    resultado_moneda1 = lanzar_moneda()\n",
        "    resultado_moneda2 = lanzar_moneda()\n",
        "\n",
        "    print(\"Resultado de la primera moneda:\", resultado_moneda1)\n",
        "    print(\"Resultado de la segunda moneda:\", resultado_moneda2)\n",
        "\n",
        "    if resultado_moneda1 == resultado_moneda2:\n",
        "        print(\"Ambas monedas mostraron el mismo lado.\")\n",
        "    else:\n",
        "        print(\"Las monedas mostraron lados diferentes.\")\n",
        "\n",
        "experimento_dos_monedas()\n"
      ],
      "metadata": {
        "colab": {
          "base_uri": "https://localhost:8080/"
        },
        "id": "PUt7f4hfaZ91",
        "outputId": "5e117f4d-cdfe-40cb-f998-cb3f9f66f564"
      },
      "execution_count": 41,
      "outputs": [
        {
          "output_type": "stream",
          "name": "stdout",
          "text": [
            "Resultado de la primera moneda: cara\n",
            "Resultado de la segunda moneda: cara\n",
            "Ambas monedas mostraron el mismo lado.\n"
          ]
        }
      ]
    },
    {
      "cell_type": "markdown",
      "source": [
        "**Ejemplo 02**\n",
        "\n",
        "Como ejemplo aparte, Considere la posibilidad de extraer una sola carta de una baraja estándar de 52 naipes.\n",
        "En este caso, el número de resultados posibles en el espacio muestral $\\Omega$ es 52.\n",
        "\n",
        "\n",
        "\n",
        "*   Sólo hay un as de picas en la baraja, así que la probabilidad de sacarlo es: $$ P(\\text{as de picas}) = \\frac{1}{52} \\approx  0,019 $$\n",
        "\n"
      ],
      "metadata": {
        "id": "ARiWy5_FlXa_"
      }
    },
    {
      "cell_type": "markdown",
      "source": [
        "## Ejercicio Moral\n",
        "¿Cual sera la probailidad de sacar?\n",
        "\n",
        "1.   As o Rey\n",
        "2.   8 de Diamantes\n",
        "3.   Cualquier carta de Corazon\n",
        "4.   Una Carta\n",
        "\n"
      ],
      "metadata": {
        "id": "XfkS4r5ingeo"
      }
    },
    {
      "cell_type": "code",
      "source": [
        "import random\n",
        "\n",
        "# Definir los palos y las cartas dentro de cada palo\n",
        "palos = ['Corazones', 'Diamantes', 'Tréboles', 'Picas']\n",
        "cartas = ['2', '3', '4', '5', '6', '7', '8', '9', '10', 'Jota', 'Reina', 'Rey', 'As']\n",
        "\n",
        "def experimento_baraja():\n",
        "    palo_seleccionado = random.choice(palos)\n",
        "    carta_seleccionada = random.choice(cartas)\n",
        "\n",
        "    print(\"Carta seleccionada:\", carta_seleccionada, \"de\", palo_seleccionado)\n",
        "\n",
        "experimento_baraja()"
      ],
      "metadata": {
        "colab": {
          "base_uri": "https://localhost:8080/"
        },
        "id": "Hb4w_2LfdUuu",
        "outputId": "27b4918b-e349-4fca-8457-a9f4215e737c"
      },
      "execution_count": 48,
      "outputs": [
        {
          "output_type": "stream",
          "name": "stdout",
          "text": [
            "Carta seleccionada: Rey de Corazones\n"
          ]
        }
      ]
    },
    {
      "cell_type": "markdown",
      "source": [],
      "metadata": {
        "id": "hMfJ9UN3pCi1"
      }
    },
    {
      "cell_type": "code",
      "source": [
        "# moneda p=1/2 cara=1 cruz=0\n",
        "\n",
        "#lista para guarda\n",
        "resultados = []\n",
        "#Lanzamientos\n",
        "for lanzamientos in range(1,10000):\n",
        "    lanzamientos = np.random.choice([0,1], lanzamientos)\n",
        "    caras = lanzamientos.mean()\n",
        "    resultados.append(caras)\n",
        "\n",
        "# graficamente\n",
        "df = pd.DataFrame({ 'lanzamientos' : resultados})\n",
        "\n",
        "#Datos grafica\n",
        "df.plot(title='Lanzamiento de una moneda',color='r',figsize=(8, 6))\n",
        "plt.axhline(0.5)\n",
        "plt.xlabel(\"Número de lanzamientos\")\n",
        "plt.ylabel(\"frecuencia caras\")\n",
        "plt.show()"
      ],
      "metadata": {
        "colab": {
          "base_uri": "https://localhost:8080/",
          "height": 564
        },
        "id": "dn7BzG3PlJg9",
        "outputId": "0ab80e93-4643-4acd-9859-9f01576d5dcf"
      },
      "execution_count": 55,
      "outputs": [
        {
          "output_type": "display_data",
          "data": {
            "text/plain": [
              "<Figure size 800x600 with 1 Axes>"
            ],
            "image/png": "[encoded data removed]"
          },
          "metadata": {}
        }
      ]
    },
    {
      "cell_type": "code",
      "source": [],
      "metadata": {
        "id": "lYGwh-Qxv5xg"
      },
      "execution_count": null,
      "outputs": []
    }
  ]
}