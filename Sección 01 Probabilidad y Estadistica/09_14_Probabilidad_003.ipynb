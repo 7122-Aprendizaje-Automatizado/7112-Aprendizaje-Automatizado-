{
  "nbformat": 4,
  "nbformat_minor": 0,
  "metadata": {
    "colab": {
      "provenance": []
    },
    "kernelspec": {
      "name": "python3",
      "display_name": "Python 3"
    },
    "language_info": {
      "name": "python"
    }
  },
  "cells": [
    {
      "cell_type": "markdown",
      "source": [
        "# Probabilidad y estadística\n",
        "\n",
        "# Variables aleatorias\n",
        "\n",
        "Las variables aleatorias $X$ son funciones reales que asignan un valor, (lógico, numérico, función), al resultado de un experimento aleatorio.\n",
        "\n",
        "$$X:\\Omega\\rightarrow\\mathbb{R},$$\n",
        "\n",
        "donde $\\Omega$ es el espacio muestral.\n",
        "\n",
        "Los valores posibles de una variable aleatoria pueden representar los posibles resultados de un experimento aún no realizado, o los posibles valores de una cantidad cuyo valor actualmente existente es incierto (p.e., como resultado de una medición incompleta o imprecisa). Intuitivamente, una variable aleatoria puede tomarse como una cantidad cuyo valor no es fijo pero puede tomar diferentes valores; una distribución de probabilidad se usa para describir la probabilidad de que se den los diferentes valores. En términos formales una variable aleatoria es una función definida sobre un espacio de probabilidad.\n",
        "\n",
        "## Tipos de variables\n",
        "### Variable aleatoria discreta\n",
        "Es discreta si su recorrido es un conjunto discreto.\n",
        "\n",
        "### Variable aleatoria continua\n",
        "Es continua si su recorrido es un conjunto no numerable.\n",
        "\n",
        "Para variables aleatorias discretas, la medida de probabilidad se define a través de la función de masa\n",
        "\n",
        "$$p(x)=P[X=a]$$\n",
        "\n",
        "#### Propiedades\n",
        "\n",
        "$$p(x) \\geq 0$$\n",
        "$$\\sum p(x_i) = 1$$\n",
        "\n"
      ],
      "metadata": {
        "id": "NpGEMk0V_JSj"
      }
    },
    {
      "cell_type": "markdown",
      "source": [
        "# Función de distribución\n",
        "\n",
        "Se define como\n",
        "\n",
        "$$F(a) = \\sum p(x) = P[X \\leq a]$$\n",
        "\n",
        "## Propiedades\n",
        "<ol>\n",
        "    <li> Es continua por la derecha\n",
        "        </li>\n",
        "    <li> Es monótona no decreciente\n",
        "        </li>\n",
        "    <li> $\\lim_{x\\rightarrow -\\infty} = 0$ y $\\lim_{x\\rightarrow \\infty} = 1$\n",
        "        </li>\n",
        "    </ol>\n"
      ],
      "metadata": {
        "id": "icJoHub5_ntm"
      }
    },
    {
      "cell_type": "markdown",
      "source": [
        "    \n",
        "# Esperanza\n",
        "La esperanza o valor esperado de una variable aleatoria es la suma del producto de la probabilidad de cada suceso por el valor de dicho suceso. Si todos los sucesos son de igual probabilidad entonces la esperanza es la media aritmética.\n",
        "\n",
        "## Caso discreto\n",
        "$$\\mu = E[X] = \\sum x_ip(x_i)$$\n",
        "\n",
        "## Caso continuo\n",
        "$$\\mu = E[x] = \\int_\\Omega XdP$$\n",
        "\n",
        "Si la v.a. es una función $Y=g(X)$, entonces\n",
        "\n",
        "$$\\mu = E[Y] = \\sum g(x_i)p(x_i)$$\n",
        "\n",
        "### Propiedades\n",
        "<ol>\n",
        "    <li> Es lineal.\n",
        "    </li>\n",
        "    <li> $E[X^n] = \\sum x_i^n p(x_i)$ (centrado en cero$\\rightarrow$ medida de tendencia central)\n",
        "    </li>\n",
        "</ol>\n",
        "\n"
      ],
      "metadata": {
        "id": "chkF0C2WBsU9"
      }
    },
    {
      "cell_type": "markdown",
      "source": [
        "# Varianza\n",
        "\n",
        "Intuitivamente, se refiere al centro de gravedad de la distribución. Hace referencia a la dispersión en la distribución.\n",
        "\n",
        "$$E[|X-E[x]] \\rightarrow Var(X) = E[(X-E[X])^2] = E[X^2]-E^2[X]$$\n",
        "\n",
        "## Desviación estándar\n",
        "$$DE[X] = \\pm \\sqrt Var[X]$$\n",
        "\n",
        "## Covarianza\n",
        "Es un valor que indica el grado (tendencia) de variación conjunta de dos variables aleatorias $X$ e $Y$ respecto a sus valores medios. Se expresa como\n",
        "\n",
        "$$Cov(X,Y) = E[X-E[X]]E[Y-E[Y]]=E[XY]-E[X]E[Y]$$\n",
        "\n",
        "Si $X$ e $Y$ son v.a. independientes, entonces $E[XY]=E[X]E[Y]$.\n",
        "\n",
        "Si $X$ e $Y$ son v.a. independientes, $Cov(X,Y)=0$. Lo recíproco no implica independencia.\n",
        "\n"
      ],
      "metadata": {
        "id": "ki6XpsgrB5hi"
      }
    },
    {
      "cell_type": "markdown",
      "source": [
        "\n",
        "# Medidas de tendencia central y dispersión\n",
        "\n",
        "## Promedio\n",
        "Es un valor típico o representativo de un conjunto de datos. Como estos valores típicos tienden a encontrarse en el centro de los conjuntos de datos, ordenados de acuerdo con su magnitud, a los promedios se les conoce también como medidas de tendencia central.\n",
        "\n",
        "Se pueden definir varios tipos de promedios; los más usados son la media aritmética, la mediana, la moda, la media\n",
        "geométrica y la media armónica.\n",
        "\n",
        "## Media aritmética\n",
        "La media aritmética, o brevemente la media, de un conjunto de $N$ números $X_1$, $X_2$, $X_3$, $\\cdots$ , $X_N$ se denota así: $\\bar{X}$ y está definida como\n",
        "\n",
        "$$ \\bar{X} = \\frac{\\sum_i^N X_i}{N}$$\n",
        "\n",
        "## Media aritmética ponderada\n",
        "Algunas veces, se asignan ciertos factores de ponderación (o pesos) $w_i$ que dependen del significado o importancia que se les asigne a estos números. En este caso, la media aritmética ponderada es\n",
        "\n",
        "$$ \\bar{X} = \\frac{\\sum_i^N w_i X_i}{\\sum w}$$\n",
        "\n",
        "## Desviación respecto a la media\n",
        "Es la diferencia en valor absoluto entre cada valor de la variable estadística y la media aritmética.\n",
        "\n",
        "$$\\Delta_i = |X_i - \\bar{X}|$$\n",
        "\n",
        "## Varianza\n",
        "Es la media aritmética del cuadrado de las desviaciones respecto a la media de una distribución estadística. La varianza intenta describir la dispersión de los datos.\n",
        "\n",
        "$$ \\sigma^2 = \\frac{\\sum_i \\Delta_i^2}{N}$$\n",
        "\n",
        "## Desviación típica\n",
        "Es la raíz cuadrada de la varianza.\n",
        "\n",
        "En las distribuciones normales se encuentra que:\n",
        "<ol>\n",
        "<li> 68.27% de los casos está comprendido entre $\\bar{X}−\\sigma$ y $\\bar{X}+\\sigma$ (es decir, una desviación estándar a cada lado de\n",
        "la media).</li>\n",
        "<li> 95.45% de los casos está comprendido entre $\\bar{X}−2\\sigma$ y $\\bar{X}+2\\sigma$ (es decir, dos desviaciones estándar a cada lado de la media). </li>\n",
        "<li> 99.73% de los casos está comprendido entre $\\bar{X}−3\\sigma$ y $\\bar{X}+3\\sigma$ (es decir, tres desviaciones estándar a cada lado\n",
        "de la media). </li>\n",
        "</ol>\n",
        " En distribuciones moderadamente sesgadas, estos porcentajes se satisfacen de manera aproximada.\n",
        "\n",
        "## Mediana\n",
        "La mediana de un conjunto de números acomodados en orden de magnitud (es decir, en una ordenación) es el valor\n",
        "central o la media de los dos valores centrales.\n",
        "\n",
        "## Moda\n",
        "La moda de un conjunto de números es el valor que se presenta con más frecuencia; es decir, es el valor más frecuente. Puede no haber moda y cuando la hay, puede no ser única.\n",
        "\n",
        "### Relación empírica entre media, mediana y moda\n",
        "En las curvas de frecuencias unimodales que son ligeramente sesgadas (asimétricas), se tiene la relación empírica\n",
        "siguiente:\n",
        "$$ Media - moda = 3(media - mediana)$$\n",
        "\n",
        "\n",
        "## Correlación\n",
        "La correlación trata de establecer la relación o dependencia que existe entre las dos variables que intervienen en una distribución bidimensional. Es decir, determinar si los cambios en una de las variables influyen en los cambios de la otra. En caso de que suceda, diremos que las variables están correlacionadas o que hay correlación entre ellas.\n",
        "\n",
        "* La correlación es positiva cuando los valores de las variables aumentan juntos\n",
        "* La correlación es negativa cuando un valor de una variable se reduce mientras el valor de la otra variable aumenta\n",
        "\n"
      ],
      "metadata": {
        "id": "97rGxJCkB-93"
      }
    },
    {
      "cell_type": "markdown",
      "source": [
        "# Ejemplos Estadistica en Python"
      ],
      "metadata": {
        "id": "wJCLCM82Td6O"
      }
    },
    {
      "cell_type": "code",
      "source": [
        "# Ejemplos de estadistica\n",
        "\n",
        "import numpy as np # importando numpy\n",
        "from scipy import stats # importando scipy.stats\n",
        "import pandas as pd # importando pandas\n",
        "import matplotlib.pyplot as plt # importando matplotlib\n",
        "import seaborn as sns # importando seaborn\n",
        "\n",
        "# parametros esteticos de seaborn\n",
        "sns.set_palette(\"deep\", desat=.6)\n",
        "sns.set_context(rc={\"figure.figsize\": (8, 4)})\n",
        "\n",
        "np.random.seed(654321) # para poder replicar el random"
      ],
      "metadata": {
        "id": "IsQZBIlkCNcK"
      },
      "execution_count": null,
      "outputs": []
    },
    {
      "cell_type": "code",
      "source": [
        " # datos distribuidos normalmente\n",
        "data = np.random.randn(10, 3)\n",
        "data"
      ],
      "metadata": {
        "colab": {
          "base_uri": "https://localhost:8080/"
        },
        "id": "igDqjsfDTktv",
        "outputId": "55bf9f2b-5b3e-463d-c94d-9e5c8bbd0318"
      },
      "execution_count": null,
      "outputs": [
        {
          "output_type": "execute_result",
          "data": {
            "text/plain": [
              "array([[ 0.7676188 , -0.88472938,  0.15183622],\n",
              "       [ 0.16115185, -0.44519833,  0.19078468],\n",
              "       [-0.52164289, -0.86636799, -2.09602306],\n",
              "       [-0.70801454,  0.19228128, -1.455283  ],\n",
              "       [ 0.28832789, -2.6869956 ,  0.72515722],\n",
              "       [ 0.90366806,  0.38803   ,  0.29604989],\n",
              "       [-0.52612295,  0.87914734,  0.58891909],\n",
              "       [-1.27947091,  0.06164297,  0.02333921],\n",
              "       [ 0.36204609, -1.12667833,  0.97489421],\n",
              "       [ 0.09782535,  0.18042404, -0.24094314]])"
            ]
          },
          "metadata": {},
          "execution_count": 34
        }
      ]
    },
    {
      "cell_type": "code",
      "execution_count": null,
      "metadata": {
        "id": "knVBZifS9AoR",
        "outputId": "8ee17b53-c347-4c95-9643-74073ca74194",
        "colab": {
          "base_uri": "https://localhost:8080/"
        }
      },
      "outputs": [
        {
          "output_type": "execute_result",
          "data": {
            "text/plain": [
              "-0.18681086477221512"
            ]
          },
          "metadata": {},
          "execution_count": 35
        }
      ],
      "source": [
        "# media aritmetica\n",
        "data.mean()"
      ]
    },
    {
      "cell_type": "code",
      "execution_count": null,
      "metadata": {
        "id": "Vwhml4pL9AoR",
        "outputId": "4652f2db-be53-46b6-af90-c523a9bb75ad",
        "colab": {
          "base_uri": "https://localhost:8080/"
        }
      },
      "outputs": [
        {
          "output_type": "execute_result",
          "data": {
            "text/plain": [
              "-0.18681086477221512"
            ]
          },
          "metadata": {},
          "execution_count": 36
        }
      ],
      "source": [
        "# desde numpy\n",
        "np.mean(data)"
      ]
    },
    {
      "cell_type": "code",
      "execution_count": null,
      "metadata": {
        "id": "9pai1ER19AoR",
        "outputId": "e3fa9792-3af3-4a8f-d880-fa322fa32511",
        "colab": {
          "base_uri": "https://localhost:8080/"
        }
      },
      "outputs": [
        {
          "output_type": "execute_result",
          "data": {
            "text/plain": [
              "array([ 0.01157521, -0.03108727, -1.16134465, -0.65700542, -0.55783683,\n",
              "        0.52924932,  0.31398116, -0.39816291,  0.07008732,  0.01243542])"
            ]
          },
          "metadata": {},
          "execution_count": 37
        }
      ],
      "source": [
        "media1 = data.mean(axis=1) # media aritmetica de cada fila. Para columna, axis = 0\n",
        "media1"
      ]
    },
    {
      "cell_type": "code",
      "execution_count": null,
      "metadata": {
        "id": "eFPKYsvl9AoS",
        "outputId": "e2bfdae3-bef9-4cbe-ae51-578f3acd4569",
        "colab": {
          "base_uri": "https://localhost:8080/"
        }
      },
      "outputs": [
        {
          "output_type": "execute_result",
          "data": {
            "text/plain": [
              "0.12483078685968876"
            ]
          },
          "metadata": {},
          "execution_count": 38
        }
      ],
      "source": [
        "# mediana\n",
        "np.median(data)"
      ]
    },
    {
      "cell_type": "code",
      "execution_count": null,
      "metadata": {
        "id": "jXnmUmSc9AoS",
        "outputId": "148d9e0f-67f4-4324-95fd-eefd48847315",
        "colab": {
          "base_uri": "https://localhost:8080/"
        }
      },
      "outputs": [
        {
          "output_type": "execute_result",
          "data": {
            "text/plain": [
              "array([ 0.1294886 , -0.19177768,  0.17131045])"
            ]
          },
          "metadata": {},
          "execution_count": 39
        }
      ],
      "source": [
        "np.median(data, 0) # media aritmetica de cada fila. Para columna, 0"
      ]
    },
    {
      "cell_type": "code",
      "execution_count": null,
      "metadata": {
        "id": "9LGXpq1k9AoS",
        "outputId": "b7eb9c23-8af6-49b3-e352-da28e0c3061e",
        "colab": {
          "base_uri": "https://localhost:8080/"
        }
      },
      "outputs": [
        {
          "output_type": "execute_result",
          "data": {
            "text/plain": [
              "0.8766135785639151"
            ]
          },
          "metadata": {},
          "execution_count": 40
        }
      ],
      "source": [
        "# Desviación típica\n",
        "np.std(data)"
      ]
    },
    {
      "cell_type": "code",
      "execution_count": null,
      "metadata": {
        "id": "mZp_lvng9AoS",
        "outputId": "bb08e211-db08-48e0-b09d-8d2298bd8743",
        "colab": {
          "base_uri": "https://localhost:8080/"
        }
      },
      "outputs": [
        {
          "output_type": "execute_result",
          "data": {
            "text/plain": [
              "0.7684513661226333"
            ]
          },
          "metadata": {},
          "execution_count": 41
        }
      ],
      "source": [
        "# varianza\n",
        "np.var(data)"
      ]
    },
    {
      "cell_type": "code",
      "source": [
        "np.var(data, 0) # varianza de cada columna"
      ],
      "metadata": {
        "colab": {
          "base_uri": "https://localhost:8080/"
        },
        "id": "0CwrUXrcWieU",
        "outputId": "4b2bb010-417e-4df3-db58-5afa0e9f1d04"
      },
      "execution_count": null,
      "outputs": [
        {
          "output_type": "execute_result",
          "data": {
            "text/plain": [
              "array([0.43221844, 0.93614137, 0.84691823])"
            ]
          },
          "metadata": {},
          "execution_count": 43
        }
      ]
    },
    {
      "cell_type": "code",
      "source": [
        "# moda\n",
        "stats.mode(data) # Calcula la moda de cada columna\n",
        "# el 2do array devuelve la frecuencia."
      ],
      "metadata": {
        "colab": {
          "base_uri": "https://localhost:8080/"
        },
        "id": "E9cQ96pNWn2U",
        "outputId": "ccf206fd-d9b0-420f-bec8-5fad528c1329"
      },
      "execution_count": null,
      "outputs": [
        {
          "output_type": "execute_result",
          "data": {
            "text/plain": [
              "ModeResult(mode=array([-1.27947091, -2.6869956 , -2.09602306]), count=array([1., 1., 1.]))"
            ]
          },
          "metadata": {},
          "execution_count": 44
        }
      ]
    },
    {
      "cell_type": "code",
      "source": [
        "datos2 = np.array([1, 2, 3, 6, 6, 1, 2, 4, 2, 2, 6, 6, 8, 10, 6])\n",
        "stats.mode(datos2) # aqui la moda es el 6 porque aparece 5 veces en el vector."
      ],
      "metadata": {
        "colab": {
          "base_uri": "https://localhost:8080/"
        },
        "id": "asZl-CKKWuH9",
        "outputId": "51ac2960-a6f1-407f-fe6d-ff83b528939f"
      },
      "execution_count": null,
      "outputs": [
        {
          "output_type": "execute_result",
          "data": {
            "text/plain": [
              "ModeResult(mode=6, count=5)"
            ]
          },
          "metadata": {},
          "execution_count": 45
        }
      ]
    },
    {
      "cell_type": "code",
      "source": [
        "# correlacion\n",
        "np.corrcoef(data) # Crea matriz de correlación.\n"
      ],
      "metadata": {
        "colab": {
          "base_uri": "https://localhost:8080/"
        },
        "id": "0cp93h1dWwcw",
        "outputId": "7652c9d5-677e-47cd-c7bd-32a0aa0dc75f"
      },
      "execution_count": null,
      "outputs": [
        {
          "output_type": "execute_result",
          "data": {
            "text/plain": [
              "array([[ 1.        ,  0.91353351,  0.06377891, -0.66175188,  0.87972117,\n",
              "         0.68915629, -0.89033879, -0.79940522,  0.78686587, -0.32594816],\n",
              "       [ 0.91353351,  1.        , -0.34767117, -0.90949242,  0.9970667 ,\n",
              "         0.33482136, -0.62815545, -0.48590311,  0.96985187, -0.68231373],\n",
              "       [ 0.06377891, -0.34767117,  1.        ,  0.70599071, -0.41841419,\n",
              "         0.76709109, -0.51115651, -0.65055424, -0.56568218,  0.92267427],\n",
              "       [-0.66175188, -0.90949242,  0.70599071,  1.        , -0.93864282,\n",
              "         0.0872083 ,  0.24783554,  0.0785802 , -0.98338202,  0.92447559],\n",
              "       [ 0.87972117,  0.9970667 , -0.41841419, -0.93864282,  1.        ,\n",
              "         0.26171934, -0.56675997, -0.41758305,  0.98565883, -0.73626578],\n",
              "       [ 0.68915629,  0.33482136,  0.76709109,  0.0872083 ,  0.26171934,\n",
              "         1.        , -0.94349776, -0.98625683,  0.09509761,  0.4604107 ],\n",
              "       [-0.89033879, -0.62815545, -0.51115651,  0.24783554, -0.56675997,\n",
              "        -0.94349776,  1.        ,  0.98528135, -0.41960146, -0.14022942],\n",
              "       [-0.79940522, -0.48590311, -0.65055424,  0.0785802 , -0.41758305,\n",
              "        -0.98625683,  0.98528135,  1.        , -0.25826134, -0.30741689],\n",
              "       [ 0.78686587,  0.96985187, -0.56568218, -0.98338202,  0.98565883,\n",
              "         0.09509761, -0.41960146, -0.25826134,  1.        , -0.83989894],\n",
              "       [-0.32594816, -0.68231373,  0.92267427,  0.92447559, -0.73626578,\n",
              "         0.4604107 , -0.14022942, -0.30741689, -0.83989894,  1.        ]])"
            ]
          },
          "metadata": {},
          "execution_count": 46
        }
      ]
    },
    {
      "cell_type": "code",
      "source": [
        "# calculando la correlación entre dos vectores.\n",
        "np.corrcoef(data[0], data[1])"
      ],
      "metadata": {
        "colab": {
          "base_uri": "https://localhost:8080/"
        },
        "id": "5b0ArWKqW1IH",
        "outputId": "d082fe85-4f6b-42cc-9660-bb1e7574f00b"
      },
      "execution_count": null,
      "outputs": [
        {
          "output_type": "execute_result",
          "data": {
            "text/plain": [
              "array([[1.        , 0.91353351],\n",
              "       [0.91353351, 1.        ]])"
            ]
          },
          "metadata": {},
          "execution_count": 48
        }
      ]
    },
    {
      "cell_type": "code",
      "source": [
        "# covarianza\n",
        "np.cov(data) # calcula matriz de covarianza"
      ],
      "metadata": {
        "id": "jr_W172JW4d0",
        "outputId": "fbaebd77-76ad-4b1a-f4ec-83066cb1c0de",
        "colab": {
          "base_uri": "https://localhost:8080/"
        }
      },
      "execution_count": null,
      "outputs": [
        {
          "output_type": "execute_result",
          "data": {
            "text/plain": [
              "array([[ 0.6973185 ,  0.27381539,  0.04407727, -0.45587595,  1.36403312,\n",
              "         0.18847181, -0.55157665, -0.50965654,  0.71015462, -0.0607748 ],\n",
              "       [ 0.27381539,  0.12883551, -0.10327816, -0.26931018,  0.66451728,\n",
              "         0.039359  , -0.16727071, -0.13315654,  0.37623553, -0.05468413],\n",
              "       [ 0.04407727, -0.10327816,  0.68492665,  0.48201097, -0.64297296,\n",
              "         0.2079132 , -0.31384189, -0.4110556 , -0.50597743,  0.17050214],\n",
              "       [-0.45587595, -0.26931018,  0.48201097,  0.68056846, -1.43780686,\n",
              "         0.02356171,  0.15168215,  0.04949303, -0.87678838,  0.17029063],\n",
              "       [ 1.36403312,  0.66451728, -0.64297296, -1.43780686,  3.44769277,\n",
              "         0.15915239, -0.78072563, -0.59197337,  1.97800557, -0.30525184],\n",
              "       [ 0.18847181,  0.039359  ,  0.2079132 ,  0.02356171,  0.15915239,\n",
              "         0.10725713, -0.22923924, -0.24660288,  0.0336604 ,  0.03366804],\n",
              "       [-0.55157665, -0.16727071, -0.31384189,  0.15168215, -0.78072563,\n",
              "        -0.22923924,  0.55038929,  0.55807206, -0.33644075, -0.02322916],\n",
              "       [-0.50965654, -0.13315654, -0.4110556 ,  0.04949303, -0.59197337,\n",
              "        -0.24660288,  0.55807206,  0.58289463, -0.21310373, -0.05240614],\n",
              "       [ 0.71015462,  0.37623553, -0.50597743, -0.87678838,  1.97800557,\n",
              "         0.0336604 , -0.33644075, -0.21310373,  1.16808173, -0.20268567],\n",
              "       [-0.0607748 , -0.05468413,  0.17050214,  0.17029063, -0.30525184,\n",
              "         0.03366804, -0.02322916, -0.05240614, -0.20268567,  0.04985615]])"
            ]
          },
          "metadata": {},
          "execution_count": 49
        }
      ]
    },
    {
      "cell_type": "code",
      "source": [
        "# covarianza de dos vectores\n",
        "np.cov(data[0], data[1])"
      ],
      "metadata": {
        "id": "feAbHZMOW7ES",
        "outputId": "2d3b6065-5141-4ecf-d8f8-3976c5d5d592",
        "colab": {
          "base_uri": "https://localhost:8080/"
        }
      },
      "execution_count": null,
      "outputs": [
        {
          "output_type": "execute_result",
          "data": {
            "text/plain": [
              "array([[0.6973185 , 0.27381539],\n",
              "       [0.27381539, 0.12883551]])"
            ]
          },
          "metadata": {},
          "execution_count": 50
        }
      ]
    },
    {
      "cell_type": "markdown",
      "source": [
        "# Distribuciones\n",
        "## Las distribuciones continuas:\n",
        "\n",
        "\n",
        "*   Normal\n",
        "*   t de Student\n",
        "\n",
        "## Las distribuciones discretas:\n",
        "\n",
        "\n",
        "*   Poisson\n",
        "*   Bernoulli\n",
        "\n"
      ],
      "metadata": {
        "id": "enQlxRapEZ_D"
      }
    },
    {
      "cell_type": "markdown",
      "source": [
        "# Distribución normal\n",
        "\n"
      ],
      "metadata": {
        "id": "VbMapJVBKRcE"
      }
    },
    {
      "cell_type": "code",
      "execution_count": null,
      "metadata": {
        "id": "nHE46fFC9AoS"
      },
      "outputs": [],
      "source": [
        "import matplotlib.pyplot as plt # importando matplotlib\n",
        "import seaborn as sns # importando seaborn\n",
        "import matplotlib.pyplot as plt\n",
        "\n",
        "# parametros esteticos de seaborn\n",
        "sns.set_palette(\"deep\", desat=.6)\n",
        "sns.set_context(rc={\"figure.figsize\": (8, 4)})"
      ]
    },
    {
      "cell_type": "code",
      "execution_count": null,
      "metadata": {
        "id": "sM-3PesD9AoS"
      },
      "outputs": [],
      "source": [
        "mu, sigma = 0, 1 # media y desvio estandar\n",
        "s = np.random.normal(mu, sigma, 1000) #creando muestra de datos"
      ]
    },
    {
      "cell_type": "code",
      "execution_count": null,
      "metadata": {
        "id": "sYHaWTKB9AoS",
        "outputId": "ac2801ea-c198-4e5a-fe6b-9751b1484b38"
      },
      "outputs": [
        {
          "data": {
            "image/png": "[encoded data removed]",
            "text/plain": [
              "<Figure size 432x288 with 1 Axes>"
            ]
          },
          "metadata": {
            "needs_background": "light"
          },
          "output_type": "display_data"
        }
      ],
      "source": [
        "# histograma de distribución normal.\n",
        "count, bins, i = plt.hist(s, 50, density=True)\n",
        "normal = plt.plot(bins, 1/(sigma * np.sqrt(2 * np.pi)) *\n",
        "         np.exp( - (bins - mu)**2 / (2 * sigma**2) ),\n",
        "         linewidth=2, color='r')"
      ]
    },
    {
      "cell_type": "markdown",
      "source": [
        "# Distribución t de Student\n",
        "\n",
        "Para muestras menores de 30 observaciones, podemos utilizar la siguiente aproximación a la distribución t de Student:\n",
        "\n",
        "$$t = \\frac{\\rho}{\\sqrt(\\frac{1-\\rho^2}{n-2})}$$"
      ],
      "metadata": {
        "id": "gIKkYSMBLdJ1"
      }
    },
    {
      "cell_type": "code",
      "source": [
        "import numpy as np # importando numpy\n",
        "from scipy import stats # importando scipy.stats\n",
        "import pandas as pd # importando pandas"
      ],
      "metadata": {
        "id": "N2imVtjcLhAz"
      },
      "execution_count": null,
      "outputs": []
    },
    {
      "cell_type": "code",
      "source": [
        "# Graficando t de Student\n",
        "df = 30 # parametro de forma.\n",
        "t = stats.t(df)\n",
        "x = np.linspace(t.ppf(0.01),\n",
        "                t.ppf(0.99), 100)\n",
        "fp = t.pdf(x) # Función de Probabilidad\n",
        "plt.plot(x, fp)\n",
        "plt.title('Distribución t de Student')\n",
        "plt.ylabel('probabilidad')\n",
        "plt.xlabel('valores')\n",
        "plt.show()\n",
        "\n"
      ],
      "metadata": {
        "colab": {
          "base_uri": "https://localhost:8080/",
          "height": 472
        },
        "id": "kWOTCAOmMvNv",
        "outputId": "2fffaf36-0bd2-4ae1-e61d-b96c2cbeb8f2"
      },
      "execution_count": null,
      "outputs": [
        {
          "output_type": "display_data",
          "data": {
            "text/plain": [
              "<Figure size 640x480 with 1 Axes>"
            ],
            "image/png": "[encoded data removed]"
          },
          "metadata": {}
        }
      ]
    },
    {
      "cell_type": "code",
      "source": [
        "# histograma\n",
        "aleatorios = t.rvs(1000) # genera aleatorios\n",
        "cuenta, cajas, ignorar = plt.hist(aleatorios, 20)\n",
        "plt.ylabel('frequencia')\n",
        "plt.xlabel('valores')\n",
        "plt.title('Histograma t de Student')\n",
        "plt.show()"
      ],
      "metadata": {
        "colab": {
          "base_uri": "https://localhost:8080/",
          "height": 472
        },
        "id": "PzfKsqs4M9OR",
        "outputId": "a5a2f09b-b667-4a0b-9d7f-5f3fe49a517d"
      },
      "execution_count": null,
      "outputs": [
        {
          "output_type": "display_data",
          "data": {
            "text/plain": [
              "<Figure size 640x480 with 1 Axes>"
            ],
            "image/png": "[encoded data removed]"
          },
          "metadata": {}
        }
      ]
    },
    {
      "cell_type": "code",
      "source": [],
      "metadata": {
        "id": "2qgLUzZlNJUG"
      },
      "execution_count": null,
      "outputs": []
    },
    {
      "cell_type": "markdown",
      "source": [
        "# Distribución Poisson\n"
      ],
      "metadata": {
        "id": "UySRaLS9O8Eq"
      }
    },
    {
      "cell_type": "code",
      "source": [
        "# Graficando Poisson\n",
        "mu =  3.6 # parametro de forma\n",
        "poisson = stats.poisson(mu) # Distribución\n",
        "x = np.arange(poisson.ppf(0.01),\n",
        "              poisson.ppf(0.99))\n",
        "fmp = poisson.pmf(x) # Función de Masa de Probabilidad\n",
        "plt.plot(x, fmp, '--')\n",
        "plt.vlines(x, 0, fmp, colors='b', lw=5, alpha=0.5)\n",
        "plt.title('Distribución Poisson')\n",
        "plt.ylabel('probabilidad')\n",
        "plt.xlabel('valores')\n",
        "plt.show()"
      ],
      "metadata": {
        "colab": {
          "base_uri": "https://localhost:8080/",
          "height": 472
        },
        "id": "J4cmmAURPAS7",
        "outputId": "5f685dd3-66bd-4ba2-d1e3-96d00b7ede1d"
      },
      "execution_count": null,
      "outputs": [
        {
          "output_type": "display_data",
          "data": {
            "text/plain": [
              "<Figure size 640x480 with 1 Axes>"
            ],
            "image/png": "[encoded data removed]"
          },
          "metadata": {}
        }
      ]
    },
    {
      "cell_type": "code",
      "source": [
        "# histograma\n",
        "aleatorios = poisson.rvs(1000)  # genera aleatorios\n",
        "cuenta, cajas, ignorar = plt.hist(aleatorios, 20)\n",
        "plt.ylabel('frequencia')\n",
        "plt.xlabel('valores')\n",
        "plt.title('Histograma Poisson')\n",
        "plt.show()"
      ],
      "metadata": {
        "colab": {
          "base_uri": "https://localhost:8080/",
          "height": 472
        },
        "id": "q7KHkt0jRKyT",
        "outputId": "9801febd-4cc0-4b36-a488-82cf0d7a89b9"
      },
      "execution_count": null,
      "outputs": [
        {
          "output_type": "display_data",
          "data": {
            "text/plain": [
              "<Figure size 640x480 with 1 Axes>"
            ],
            "image/png": "[encoded data removed]"
          },
          "metadata": {}
        }
      ]
    },
    {
      "cell_type": "markdown",
      "source": [
        "# Distribución Bernoulli\n"
      ],
      "metadata": {
        "id": "6Qr6e0ymPAzW"
      }
    },
    {
      "cell_type": "code",
      "source": [
        "# Graficando Bernoulli\n",
        "p =  0.5 # parametro de forma\n",
        "bernoulli = stats.bernoulli(p)\n",
        "x = np.arange(-1, 3)\n",
        "fmp = bernoulli.pmf(x) # Función de Masa de Probabilidad\n",
        "fig, ax = plt.subplots()\n",
        "ax.plot(x, fmp, 'bo')\n",
        "ax.vlines(x, 0, fmp, colors='b', lw=5, alpha=0.5)\n",
        "ax.set_yticks([0., 0.2, 0.4, 0.6])\n",
        "plt.title('Distribución Bernoulli')\n",
        "plt.ylabel('probabilidad')\n",
        "plt.xlabel('valores')\n",
        "plt.show()"
      ],
      "metadata": {
        "colab": {
          "base_uri": "https://localhost:8080/",
          "height": 472
        },
        "id": "U5s5nMUpPC5u",
        "outputId": "c5ff475e-1f8c-4923-b978-cab9d616226e"
      },
      "execution_count": null,
      "outputs": [
        {
          "output_type": "display_data",
          "data": {
            "text/plain": [
              "<Figure size 640x480 with 1 Axes>"
            ],
            "image/png": "[encoded data removed]"
          },
          "metadata": {}
        }
      ]
    },
    {
      "cell_type": "code",
      "source": [
        "# histograma\n",
        "aleatorios = bernoulli.rvs(1000)  # genera aleatorios\n",
        "cuenta, cajas, ignorar = plt.hist(aleatorios, 20)\n",
        "plt.ylabel('frequencia')\n",
        "plt.xlabel('valores')\n",
        "plt.title('Histograma Bernoulli')\n",
        "plt.show()"
      ],
      "metadata": {
        "colab": {
          "base_uri": "https://localhost:8080/",
          "height": 472
        },
        "id": "hZ7lriHURT6K",
        "outputId": "e838d8b3-92c4-4410-9868-6b6124e09d3e"
      },
      "execution_count": null,
      "outputs": [
        {
          "output_type": "display_data",
          "data": {
            "text/plain": [
              "<Figure size 640x480 with 1 Axes>"
            ],
            "image/png": "[encoded data removed]"
          },
          "metadata": {}
        }
      ]
    },
    {
      "cell_type": "code",
      "source": [],
      "metadata": {
        "id": "ZyNWxnTTRVy6"
      },
      "execution_count": null,
      "outputs": []
    }
  ]
}